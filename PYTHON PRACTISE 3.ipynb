{
 "cells": [
  {
   "cell_type": "markdown",
   "id": "c8f573f8",
   "metadata": {},
   "source": [
    "#Q1"
   ]
  },
  {
   "cell_type": "code",
   "execution_count": 6,
   "id": "1ac6dd5c",
   "metadata": {},
   "outputs": [],
   "source": [
    "d={\n",
    "    \"apple\": 0.75,\n",
    "\"banana\": 1.25,\n",
    "\"orange\": 0.90\n",
    "}"
   ]
  },
  {
   "cell_type": "code",
   "execution_count": 7,
   "id": "5a5714c1",
   "metadata": {},
   "outputs": [
    {
     "data": {
      "text/plain": [
       "1.25"
      ]
     },
     "execution_count": 7,
     "metadata": {},
     "output_type": "execute_result"
    }
   ],
   "source": [
    "d[\"banana\"]"
   ]
  },
  {
   "cell_type": "markdown",
   "id": "4e9d64bc",
   "metadata": {},
   "source": [
    "#Q2"
   ]
  },
  {
   "cell_type": "code",
   "execution_count": 13,
   "id": "ab13388c",
   "metadata": {},
   "outputs": [],
   "source": [
    "Ages={\n",
    "    \"Alice\": 30,\n",
    "    \"Bob\": 25,\n",
    "    \"Charlie\": 35\n",
    "}"
   ]
  },
  {
   "cell_type": "code",
   "execution_count": 14,
   "id": "bd094321",
   "metadata": {},
   "outputs": [
    {
     "data": {
      "text/plain": [
       "35"
      ]
     },
     "execution_count": 14,
     "metadata": {},
     "output_type": "execute_result"
    }
   ],
   "source": [
    "Ages[\"Charlie\"]"
   ]
  },
  {
   "cell_type": "markdown",
   "id": "32ad7aba",
   "metadata": {},
   "source": [
    "#Q3"
   ]
  },
  {
   "cell_type": "code",
   "execution_count": 19,
   "id": "229d797a",
   "metadata": {},
   "outputs": [],
   "source": [
    "def wordcount(s):\n",
    "    l=s.split()\n",
    "    d={}\n",
    "    for i in l:\n",
    "        d[i]=l.count(i)\n",
    "    return d"
   ]
  },
  {
   "cell_type": "code",
   "execution_count": 20,
   "id": "f4bfe5ef",
   "metadata": {},
   "outputs": [
    {
     "data": {
      "text/plain": [
       "{'hello': 2, 'world': 1}"
      ]
     },
     "execution_count": 20,
     "metadata": {},
     "output_type": "execute_result"
    }
   ],
   "source": [
    "wordcount(\"hello world hello\")"
   ]
  },
  {
   "cell_type": "markdown",
   "id": "94b66ea7",
   "metadata": {},
   "source": [
    "#Q4"
   ]
  },
  {
   "cell_type": "code",
   "execution_count": 6,
   "id": "9e46bf47",
   "metadata": {},
   "outputs": [
    {
     "name": "stdout",
     "output_type": "stream",
     "text": [
      "Enter the name whose mobile number u want\tCHARLIE\n",
      "The mobile number is 555-9012\n"
     ]
    }
   ],
   "source": [
    "phonebook={\n",
    "    \"Alice\": \"555-1234\",\n",
    "    \"Bob\": \"555-5678\",\n",
    "    \"Charlie\": \"555-9012\"\n",
    "}\n",
    "a=input(\"Enter the name whose mobile number u want\\t\")\n",
    "if a.title() in phonebook:\n",
    "    print(\"The mobile number is\",end=\" \")\n",
    "    print(phonebook[a.title()])\n",
    "else:\n",
    "    print(\"name doesnt exist\")"
   ]
  },
  {
   "cell_type": "markdown",
   "id": "f5304090",
   "metadata": {},
   "source": [
    "#Q5"
   ]
  },
  {
   "cell_type": "code",
   "execution_count": 11,
   "id": "b22eed18",
   "metadata": {},
   "outputs": [
    {
     "name": "stdout",
     "output_type": "stream",
     "text": [
      "Enter any number between 1 to 10\t6\n",
      "Too high!\n"
     ]
    }
   ],
   "source": [
    "n=int(input(\"Enter any number between 1 to 10\\t\"))\n",
    "if n<5:\n",
    "    print(\"Too low!\")\n",
    "else:\n",
    "    print(\"Too high!\")"
   ]
  },
  {
   "cell_type": "markdown",
   "id": "2a2a02c1",
   "metadata": {},
   "source": [
    "#Q6"
   ]
  },
  {
   "cell_type": "code",
   "execution_count": 14,
   "id": "952a368b",
   "metadata": {},
   "outputs": [
    {
     "name": "stdout",
     "output_type": "stream",
     "text": [
      "Enter your password\tpassword124\n",
      "Access denied\n"
     ]
    }
   ],
   "source": [
    "s=input(\"Enter your password\\t\")\n",
    "if s==\"password123\":\n",
    "    print(\"Access granted\")\n",
    "else:\n",
    "    print(\"Access denied\")"
   ]
  },
  {
   "cell_type": "markdown",
   "id": "9652a6a8",
   "metadata": {},
   "source": [
    "#Q7"
   ]
  },
  {
   "cell_type": "code",
   "execution_count": 19,
   "id": "92210536",
   "metadata": {},
   "outputs": [
    {
     "name": "stdout",
     "output_type": "stream",
     "text": [
      "Enter a positive number1\n",
      "1\n"
     ]
    }
   ],
   "source": [
    "n=int(input(\"Enter a positive number\"))\n",
    "i=1\n",
    "while i<=n:\n",
    "    print(i)\n",
    "    i=i+2"
   ]
  },
  {
   "cell_type": "markdown",
   "id": "d0e731d1",
   "metadata": {},
   "source": [
    "#Q8"
   ]
  },
  {
   "cell_type": "code",
   "execution_count": 22,
   "id": "8483324c",
   "metadata": {},
   "outputs": [
    {
     "name": "stdout",
     "output_type": "stream",
     "text": [
      "Guess the number10\n",
      "Too low\n"
     ]
    }
   ],
   "source": [
    "import random\n",
    "x=random.randint(1,100)\n",
    "n=int(input(\"Guess the number\"))\n",
    "if n<x:\n",
    "    print(\"Too low\")\n",
    "elif n>x:\n",
    "    print(\"Too high\")\n",
    "else:\n",
    "    print(\"You Win\")\n"
   ]
  },
  {
   "cell_type": "markdown",
   "id": "936c195e",
   "metadata": {},
   "source": [
    "#Q9"
   ]
  },
  {
   "cell_type": "code",
   "execution_count": 31,
   "id": "8a7cc898",
   "metadata": {},
   "outputs": [
    {
     "name": "stdout",
     "output_type": "stream",
     "text": [
      "Guess the number1\n",
      "Guess the number3\n",
      "You Win\n"
     ]
    }
   ],
   "source": [
    "import random\n",
    "x=random.randint(1,10)\n",
    "for i in range(3):\n",
    "    n=int(input(\"Guess the number\"))\n",
    "    if n==x:\n",
    "        print(\"You Win\")\n",
    "        break\n",
    "else:\n",
    "    print(\"You lose\")"
   ]
  },
  {
   "cell_type": "markdown",
   "id": "2e133024",
   "metadata": {},
   "source": [
    "#Q10"
   ]
  },
  {
   "cell_type": "code",
   "execution_count": 41,
   "id": "111f3603",
   "metadata": {},
   "outputs": [
    {
     "name": "stdout",
     "output_type": "stream",
     "text": [
      "Enter your age100\n",
      "senior\n"
     ]
    }
   ],
   "source": [
    "n=int(input(\"Enter your age\"))\n",
    "if 0<=n<=12:\n",
    "    print(\"child\")\n",
    "elif 13<=n<=19:\n",
    "    print(\"teenager\")\n",
    "elif 20<=n<=59:\n",
    "    print(\"adult\")\n",
    "else:\n",
    "    print(\"senior\")\n",
    "    "
   ]
  },
  {
   "cell_type": "code",
   "execution_count": null,
   "id": "11e76ab4",
   "metadata": {},
   "outputs": [],
   "source": []
  },
  {
   "cell_type": "code",
   "execution_count": null,
   "id": "7cbaf1e8",
   "metadata": {},
   "outputs": [],
   "source": []
  },
  {
   "cell_type": "code",
   "execution_count": null,
   "id": "1f0f82ff",
   "metadata": {},
   "outputs": [],
   "source": []
  },
  {
   "cell_type": "code",
   "execution_count": null,
   "id": "0c3d35c4",
   "metadata": {},
   "outputs": [],
   "source": []
  },
  {
   "cell_type": "code",
   "execution_count": null,
   "id": "ce3a4c60",
   "metadata": {},
   "outputs": [],
   "source": []
  },
  {
   "cell_type": "code",
   "execution_count": null,
   "id": "cdc4579b",
   "metadata": {},
   "outputs": [],
   "source": []
  },
  {
   "cell_type": "code",
   "execution_count": null,
   "id": "5a811880",
   "metadata": {},
   "outputs": [],
   "source": []
  },
  {
   "cell_type": "code",
   "execution_count": null,
   "id": "0ca6bc56",
   "metadata": {},
   "outputs": [],
   "source": []
  },
  {
   "cell_type": "code",
   "execution_count": null,
   "id": "add14f84",
   "metadata": {},
   "outputs": [],
   "source": []
  },
  {
   "cell_type": "code",
   "execution_count": null,
   "id": "76d1b331",
   "metadata": {},
   "outputs": [],
   "source": []
  },
  {
   "cell_type": "code",
   "execution_count": null,
   "id": "30f9484a",
   "metadata": {},
   "outputs": [],
   "source": []
  },
  {
   "cell_type": "code",
   "execution_count": null,
   "id": "31d53d6f",
   "metadata": {},
   "outputs": [],
   "source": []
  },
  {
   "cell_type": "code",
   "execution_count": null,
   "id": "d3d12de3",
   "metadata": {},
   "outputs": [],
   "source": []
  },
  {
   "cell_type": "code",
   "execution_count": null,
   "id": "486bf177",
   "metadata": {},
   "outputs": [],
   "source": []
  },
  {
   "cell_type": "code",
   "execution_count": null,
   "id": "36a90fa4",
   "metadata": {},
   "outputs": [],
   "source": []
  },
  {
   "cell_type": "code",
   "execution_count": null,
   "id": "063ba689",
   "metadata": {},
   "outputs": [],
   "source": []
  },
  {
   "cell_type": "code",
   "execution_count": null,
   "id": "86033f9e",
   "metadata": {},
   "outputs": [],
   "source": []
  },
  {
   "cell_type": "code",
   "execution_count": null,
   "id": "097f026a",
   "metadata": {},
   "outputs": [],
   "source": []
  },
  {
   "cell_type": "code",
   "execution_count": null,
   "id": "cf5c53b3",
   "metadata": {},
   "outputs": [],
   "source": []
  },
  {
   "cell_type": "code",
   "execution_count": null,
   "id": "f66f4e20",
   "metadata": {},
   "outputs": [],
   "source": []
  },
  {
   "cell_type": "code",
   "execution_count": null,
   "id": "9537072d",
   "metadata": {},
   "outputs": [],
   "source": []
  },
  {
   "cell_type": "code",
   "execution_count": null,
   "id": "0121bbaa",
   "metadata": {},
   "outputs": [],
   "source": []
  },
  {
   "cell_type": "code",
   "execution_count": null,
   "id": "9dfdbe86",
   "metadata": {},
   "outputs": [],
   "source": []
  },
  {
   "cell_type": "code",
   "execution_count": null,
   "id": "7c59a339",
   "metadata": {},
   "outputs": [],
   "source": []
  },
  {
   "cell_type": "code",
   "execution_count": null,
   "id": "23b43767",
   "metadata": {},
   "outputs": [],
   "source": []
  },
  {
   "cell_type": "code",
   "execution_count": null,
   "id": "eb8f73e8",
   "metadata": {},
   "outputs": [],
   "source": []
  },
  {
   "cell_type": "code",
   "execution_count": null,
   "id": "ac03d4ea",
   "metadata": {},
   "outputs": [],
   "source": []
  }
 ],
 "metadata": {
  "kernelspec": {
   "display_name": "Python 3 (ipykernel)",
   "language": "python",
   "name": "python3"
  },
  "language_info": {
   "codemirror_mode": {
    "name": "ipython",
    "version": 3
   },
   "file_extension": ".py",
   "mimetype": "text/x-python",
   "name": "python",
   "nbconvert_exporter": "python",
   "pygments_lexer": "ipython3",
   "version": "3.11.3"
  }
 },
 "nbformat": 4,
 "nbformat_minor": 5
}
